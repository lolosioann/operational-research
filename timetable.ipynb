{
 "cells": [
  {
   "cell_type": "markdown",
   "id": "ee19887e",
   "metadata": {},
   "source": [
    "# Operational Research Assignment 2025\n",
    "## Planning of weekly course timetable\n",
    "### Lolos Ioannis - 10674\n",
    "### lolosioann@ece.auth.gr"
   ]
  },
  {
   "cell_type": "code",
   "execution_count": 8,
   "id": "59c91405",
   "metadata": {},
   "outputs": [],
   "source": [
    "# imports\n",
    "from gurobipy import Model, GRB\n",
    "import pandas as pd\n",
    "import matplotlib.pyplot as plt\n",
    "import matplotlib.patches as patches\n"
   ]
  },
  {
   "cell_type": "code",
   "execution_count": 9,
   "id": "a451a33d",
   "metadata": {},
   "outputs": [],
   "source": [
    "# Data representation\n",
    "\n",
    "teachers = [\n",
    "    \"Gesmanidis\",       \n",
    "    \"Insulina\",   \n",
    "    \"Chartoula\",  \n",
    "    \"Lathopraxis\",\n",
    "    \"Antiparagogos\",\n",
    "    \"Kirkofidou\",\n",
    "    \"Platiazon\",\n",
    "    \"Bratsakis\",\n",
    "    \"Trehalitoula\"\n",
    "]\n",
    "\n",
    "subjects = {\n",
    "    \"English\": \"Gesmanidis\",\n",
    "    \"Biology\": \"Insulina\",\n",
    "    \"History\": \"Chartoula\",\n",
    "    \"Math_1\": \"Lathopraxis\",      \n",
    "    \"Math_2\": \"Antiparagogos\",    \n",
    "    \"Physics\": \"Kirkofidou\",\n",
    "    \"Philosophy\": \"Platiazon\",\n",
    "    \"PE_1\": \"Bratsakis\",          \n",
    "    \"PE_2\": \"Trehalitoula\"        \n",
    "}\n",
    "\n",
    "sections = [\"T1\", \"T2\"]\n",
    "\n",
    "days = [\"Mon\", \"Tue\", \"Wed\", \"Thu\", \"Fri\"]\n",
    "slots_per_day = [\"08_10\", \"10_15_12_15\", \"14_16\", \"16_15_18_15\"]\n",
    "\n",
    "time_slots = [(d, s) for d in days for s in slots_per_day]\n",
    "\n",
    "teaching_hours = {     # subject: (T1_hours, T2_hours)\n",
    "    \"English\": (1, 1),\n",
    "    \"Biology\": (3, 3),\n",
    "    \"History\": (2, 2),\n",
    "    \"Math_1\": (0, 4),   # Lathopraxis\n",
    "    \"Math_2\": (4, 0),   # Antiparagogos\n",
    "    \"Physics\": (3, 3),\n",
    "    \"Philosophy\": (1, 1),\n",
    "    \"PE_1\": (1, 0),\n",
    "    \"PE_2\": (0, 1)\n",
    "}\n",
    "\n",
    "# Fixed slot reserved for study planning\n",
    "reserved_slots = [(\"Mon\", \"08_10\")]\n",
    "\n",
    "# PE must be on Thursday 14:00-16:00\n",
    "pe_slot = (\"Thu\", \"14_16\")\n",
    "\n",
    "# Teacher availability\n",
    "unavailable = {\n",
    "    \"Lathopraxis\": [(\"Mon\", \"08_10\"), (\"Mon\", \"10_15_12_15\")],\n",
    "    \"Insulina\": [(\"Wed\", s) for s in slots_per_day]\n",
    "}\n",
    "\n",
    "# One lesson per subject per section per day\n",
    "# This will be enforced through constraints"
   ]
  },
  {
   "cell_type": "code",
   "execution_count": 3,
   "id": "c07ca59b",
   "metadata": {},
   "outputs": [
    {
     "name": "stdout",
     "output_type": "stream",
     "text": [
      "Restricted license - for non-production use only - expires 2026-11-23\n"
     ]
    }
   ],
   "source": [
    "# create the model\n",
    "x = {}  # Decision variables: x[section, subject, time_slot]\n",
    "model = Model(\"timetabling\")\n",
    "\n",
    "for s in sections:\n",
    "    for sub in teaching_hours:\n",
    "        for t in time_slots:\n",
    "            var_name = f\"x_{s}_{sub}_{t[0]}_{t[1]}\"\n",
    "            x[s, sub, t] = model.addVar(vtype=GRB.BINARY, name=var_name)\n",
    "\n",
    "# there is nothing to minimize, but we need to set an objective function\n",
    "model.setObjective(0, GRB.MINIMIZE)"
   ]
  },
  {
   "cell_type": "code",
   "execution_count": 4,
   "id": "337532bd",
   "metadata": {},
   "outputs": [],
   "source": [
    "# constraints\n",
    "\n",
    "# Each subject sub must be scheduled exactly H times for each section s:\n",
    "for sub, (h1, h2) in teaching_hours.items():\n",
    "    for s_idx, s in enumerate(sections):\n",
    "        H = h1 if s_idx == 0 else h2\n",
    "        model.addConstr(sum(x[s, sub, t] for t in time_slots) == H)\n",
    "\n",
    "\n",
    "# Each section can attend only one class at a time:\n",
    "for s in sections:\n",
    "    for t in time_slots:\n",
    "        model.addConstr(sum(x[s, sub, t] for sub in teaching_hours) <= 1)\n",
    "\n",
    "\n",
    "# We must ensure that a teacher is not scheduled to teach two sections at the same time.\n",
    "for t in time_slots:\n",
    "    for teacher in teachers:\n",
    "        teaching_subs = [sub for sub, tchr in subjects.items() if tchr == teacher]\n",
    "        model.addConstr(\n",
    "            sum(x[s, sub, t] for s in sections for sub in teaching_subs) <= 1\n",
    "        )\n",
    "\n",
    "# No More Than One Lesson per Subject per Section per Day\n",
    "for s in sections:\n",
    "    for sub in teaching_hours:\n",
    "        for day in days:\n",
    "            slots_today = [t for t in time_slots if t[0] == day]\n",
    "            model.addConstr(sum(x[s, sub, t] for t in slots_today) <= 1)\n",
    "\n",
    "# fixed slot reserved for study planning\n",
    "for s in sections:\n",
    "    for sub in teaching_hours:\n",
    "        for t in reserved_slots:\n",
    "            model.addConstr(x[s, sub, t] == 0)\n",
    "\n",
    "# PE must be on Thursday 14:00-16:00\n",
    "pe_allowed = (\"Thu\", \"14_16\")\n",
    "for t in time_slots:\n",
    "    if t != pe_allowed:\n",
    "        model.addConstr(x[\"T1\", \"PE_1\", t] == 0)\n",
    "        model.addConstr(x[\"T2\", \"PE_2\", t] == 0)\n",
    "\n",
    "# Teachers' Unavailability\n",
    "for teacher, unavailable_slots in unavailable.items():\n",
    "    teaching_subs = [sub for sub, tchr in subjects.items() if tchr == teacher]\n",
    "    for s in sections:\n",
    "        for sub in teaching_subs:\n",
    "            for t in unavailable_slots:\n",
    "                model.addConstr(x[s, sub, t] == 0)\n"
   ]
  },
  {
   "cell_type": "code",
   "execution_count": 5,
   "id": "76357d5d",
   "metadata": {},
   "outputs": [
    {
     "name": "stdout",
     "output_type": "stream",
     "text": [
      "✅ Optimal solution found!\n",
      "\n"
     ]
    }
   ],
   "source": [
    "model.setParam('OutputFlag', 0)\n",
    "model.optimize()\n",
    "# Print the results\n",
    "from gurobipy import GRB\n",
    "\n",
    "if model.status == GRB.OPTIMAL:\n",
    "    print(\"✅ Optimal solution found!\\n\")\n",
    "else:\n",
    "    print(\"⚠️ No feasible solution.\")\n"
   ]
  },
  {
   "cell_type": "code",
   "execution_count": 6,
   "id": "7a8523c0",
   "metadata": {},
   "outputs": [
    {
     "name": "stdout",
     "output_type": "stream",
     "text": [
      "\n",
      "📘 Timetable for T1\n",
      "                 Mon      Tue         Wed      Thu      Fri\n",
      "08_10            ---  History         ---  Biology   Math_2\n",
      "10_15_12_15  Physics  Physics  Philosophy  History  Physics\n",
      "14_16         Math_2      ---      Math_2     PE_1  English\n",
      "16_15_18_15  Biology      ---         ---   Math_2  Biology\n",
      "\n",
      "📘 Timetable for T2\n",
      "                 Mon         Tue      Wed      Thu      Fri\n",
      "08_10            ---     Biology   Math_1      ---  Biology\n",
      "10_15_12_15  History      Math_1      ---   Math_1      ---\n",
      "14_16        Biology  Philosophy      ---     PE_2  Physics\n",
      "16_15_18_15   Math_1     Physics  Physics  English  History\n"
     ]
    }
   ],
   "source": [
    "def build_timetable_for_section(section):\n",
    "    table = pd.DataFrame(index=slots_per_day, columns=days)\n",
    "\n",
    "    for day in days:\n",
    "        for slot in slots_per_day:\n",
    "            t = (day, slot)\n",
    "            subject = \"---\"\n",
    "            for sub in teaching_hours:\n",
    "                if x[section, sub, t].X > 0.5:\n",
    "                    subject = sub\n",
    "                    break\n",
    "            table.at[slot, day] = subject\n",
    "\n",
    "    return table\n",
    "\n",
    "for section in sections:\n",
    "    print(f\"\\n📘 Timetable for {section}\")\n",
    "    timetable = build_timetable_for_section(section)\n",
    "    print(timetable)\n"
   ]
  },
  {
   "cell_type": "code",
   "execution_count": 7,
   "id": "00e8f909",
   "metadata": {},
   "outputs": [
    {
     "data": {
      "image/png": "[encoded data removed]",
      "text/plain": [
       "<Figure size 1000x600 with 1 Axes>"
      ]
     },
     "metadata": {},
     "output_type": "display_data"
    },
    {
     "data": {
      "image/png": "[encoded data removed]",
      "text/plain": [
       "<Figure size 1000x600 with 1 Axes>"
      ]
     },
     "metadata": {},
     "output_type": "display_data"
    }
   ],
   "source": [
    "def plot_timetable(section):\n",
    "    fig, ax = plt.subplots(figsize=(10, 6))\n",
    "    ax.set_xlim(0, len(days))\n",
    "    ax.set_ylim(0, len(slots_per_day))\n",
    "    ax.set_xticks(range(len(days)))\n",
    "    ax.set_yticks(range(len(slots_per_day)))\n",
    "    ax.set_xticklabels(days)\n",
    "    ax.set_yticklabels(slots_per_day)\n",
    "    ax.set_title(f\"Timetable for {section}\", fontsize=14, weight='bold')\n",
    "\n",
    "    # Draw grid and fill cells with subject names\n",
    "    for i, slot in enumerate(slots_per_day):\n",
    "        for j, day in enumerate(days):\n",
    "            t = (day, slot)\n",
    "            subject = None\n",
    "            for sub in teaching_hours:\n",
    "                if x[section, sub, t].X > 0.5:\n",
    "                    subject = sub\n",
    "                    break\n",
    "            rect = patches.Rectangle((j, len(slots_per_day) - 1 - i), 1, 1, linewidth=1, edgecolor='black', facecolor='lightgrey')\n",
    "            ax.add_patch(rect)\n",
    "            if subject:\n",
    "                ax.text(j + 0.5, len(slots_per_day) - 1 - i + 0.5, subject, ha='center', va='center', fontsize=8, wrap=True)\n",
    "\n",
    "    ax.invert_yaxis()\n",
    "    ax.set_aspect('equal')\n",
    "    plt.grid(False)\n",
    "    plt.tight_layout()\n",
    "    plt.show()\n",
    "\n",
    "\n",
    "for section in sections:\n",
    "    plot_timetable(section)\n"
   ]
  }
 ],
 "metadata": {
  "kernelspec": {
   "display_name": ".venv",
   "language": "python",
   "name": "python3"
  },
  "language_info": {
   "codemirror_mode": {
    "name": "ipython",
    "version": 3
   },
   "file_extension": ".py",
   "mimetype": "text/x-python",
   "name": "python",
   "nbconvert_exporter": "python",
   "pygments_lexer": "ipython3",
   "version": "3.12.3"
  }
 },
 "nbformat": 4,
 "nbformat_minor": 5
}
