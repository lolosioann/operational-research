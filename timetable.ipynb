{
 "cells": [
  {
   "cell_type": "markdown",
   "id": "ee19887e",
   "metadata": {},
   "source": [
    "# Operational Research Assignment 2025\n",
    "## Planning of weekly course timetable\n",
    "### Lolos Ioannis - 10674\n",
    "### lolosioann@ece.auth.gr"
   ]
  },
  {
   "cell_type": "code",
   "execution_count": 43,
   "id": "59c91405",
   "metadata": {},
   "outputs": [],
   "source": [
    "from gurobipy import Model, GRB\n",
    "import pandas as pd\n",
    "import matplotlib.pyplot as plt\n",
    "import matplotlib.patches as patches"
   ]
  },
  {
   "cell_type": "markdown",
   "id": "e27a49a5",
   "metadata": {},
   "source": [
    "### Data Representation for the problem\n",
    "\n",
    "The cell below defines the core data structures used for the scheduling problem. It includes:\n",
    "\n",
    "- A list of teachers.\n",
    "- A dictionary of subjects-teachers key-value pairs, including special cases like multiple Math and PE teachers.\n",
    "- Two classes (`C1` and `C2`) and the weekly schedule defined by days and time slots (5 days × 4 slots/day).\n",
    "- A specification of required teaching hours for each subject-class pair.\n",
    "- Special cases like teacher specific unavailability periods and reserved time slots for PE and weekly planning.\n",
    "\n",
    "These data will be used in our optimization model."
   ]
  },
  {
   "cell_type": "code",
   "execution_count": 44,
   "id": "a451a33d",
   "metadata": {},
   "outputs": [],
   "source": [
    "# Data representation\n",
    "teachers = [\n",
    "    \"Gesmanidis\",       \n",
    "    \"Insulina\",   \n",
    "    \"Chartoula\",  \n",
    "    \"Lathopraxis\",\n",
    "    \"Antiparagogos\",\n",
    "    \"Kirkofidou\",\n",
    "    \"Platiazon\",\n",
    "    \"Bratsakis\",\n",
    "    \"Trehalitoula\"\n",
    "]\n",
    "\n",
    "# we use math_1 and math_2 to represent the two different math teachers\n",
    "# and the same for PE_1 and PE_2\n",
    "subjects = {\n",
    "    \"English\": \"Gesmanidis\",\n",
    "    \"Biology\": \"Insulina\",\n",
    "    \"History\": \"Chartoula\",\n",
    "    \"Math_1\": \"Lathopraxis\",      \n",
    "    \"Math_2\": \"Antiparagogos\",    \n",
    "    \"Physics\": \"Kirkofidou\",\n",
    "    \"Philosophy\": \"Platiazon\",\n",
    "    \"PE_1\": \"Bratsakis\",          \n",
    "    \"PE_2\": \"Trehalitoula\"        \n",
    "}\n",
    "\n",
    "# two classes (tmhmata): C1 and C2\n",
    "classes = [\"C1\", \"C2\"]\n",
    "\n",
    "days = [\"Mon\", \"Tue\", \"Wed\", \"Thu\", \"Fri\"]\n",
    "slots_per_day = [\"08_10\", \"10_15_12_15\", \"14_16\", \"16_15_18_15\"]\n",
    "\n",
    "# 5x4 grid\n",
    "time_slots = [(d, s) for d in days for s in slots_per_day]\n",
    "\n",
    "# Format -> subject: (C1_hours, C2_hours)\n",
    "teaching_hours = {     \n",
    "    \"English\": (1, 1),\n",
    "    \"Biology\": (3, 3),\n",
    "    \"History\": (2, 2),\n",
    "    \"Math_1\": (0, 4),   \n",
    "    \"Math_2\": (4, 0),   \n",
    "    \"Physics\": (3, 3),\n",
    "    \"Philosophy\": (1, 1),\n",
    "    \"PE_1\": (1, 0),\n",
    "    \"PE_2\": (0, 1)\n",
    "}\n",
    "\n",
    "# Fixed slot reserved for study planning\n",
    "reserved_slots = [(\"Mon\", \"08_10\")]\n",
    "\n",
    "# PE must be on Thursday 14:00-16:00\n",
    "pe_slot = (\"Thu\", \"14_16\")\n",
    "\n",
    "# Teacher unavailability\n",
    "unavailable = {\n",
    "    \"Lathopraxis\": [(\"Mon\", \"08_10\"), (\"Mon\", \"10_15_12_15\")],\n",
    "    \"Insulina\": [(\"Wed\", s) for s in slots_per_day]\n",
    "}"
   ]
  },
  {
   "cell_type": "markdown",
   "id": "955033b3",
   "metadata": {},
   "source": [
    "### Model Initialization and Decision Variables\n",
    "\n",
    "Next, we initialize a Gurobi optimization model for problem. The decision variables `x[class, subject, time_slot]` are binary. Their value is 1 if a given subject for a specific section is scheduled at a particular time slot, else 0.\n",
    "\n",
    "Key components:\n",
    "- **Model**: A Gurobi `Model` named `\"timetable\"` is created.\n",
    "- **Variables**: A binary variable is defined for every combination of class, subject, and time slot.\n",
    "- **Objective**: A dummy objective (`0`) is set since the problem requires us to only find a feasible schedule, with no cost to optimize.\n"
   ]
  },
  {
   "cell_type": "code",
   "execution_count": null,
   "id": "c07ca59b",
   "metadata": {},
   "outputs": [],
   "source": [
    "# Create the model\n",
    "x = {}  # Decision variables: x[class, subject, time_slot]\n",
    "model = Model(\"timetable\")\n",
    "\n",
    "for c in classes:\n",
    "    for sub in teaching_hours:\n",
    "        for t in time_slots:\n",
    "            var_name = f\"x_{c}_{sub}_{t[0]}_{t[1]}\"\n",
    "            x[c, sub, t] = model.addVar(vtype=GRB.BINARY, name=var_name)\n",
    "\n",
    "# there is nothing to minimize, but we need to set an objective function\n",
    "model.setObjective(0, GRB.MINIMIZE)"
   ]
  },
  {
   "cell_type": "markdown",
   "id": "8453147f",
   "metadata": {},
   "source": [
    "### Constraints\n",
    "\n",
    "1. **Subject Teaching Hours**: Each subject must be scheduled for a fixed number of hours (`H`) per class (`C1`, `C2`), as specified in `teaching_hours`.\n",
    "\n",
    "2. **Class Time Slot Exclusivity**: A class can attend at most one subject per time slot to avoid overlap.\n",
    "\n",
    "3. **Teacher Availability**: A teacher cannot be scheduled to teach more than one class at the same time.\n",
    "\n",
    "4. **Subject Frequency per Day**: A subject can be scheduled at most once per day for each section to avoid repetition within a single day.\n",
    "\n",
    "5. **Reserved Time Slot**: Reserved slots (e.g., Monday 08:00–10:00) are excluded from teaching for all subjects and sections.\n",
    "\n",
    "6. **Physical Education Timing**: PE classes must take place on Thursday from 14:00–16:00 for each respective section.\n",
    "\n",
    "7. **Teacher Unavailability**: Teachers cannot be scheduled during their unavailable time slots as defined in the `unavailable` dictionary.\n",
    "\n",
    "These constraints collectively ensure a consistent, conflict-free, and policy-compliant timetable.\n"
   ]
  },
  {
   "cell_type": "code",
   "execution_count": 46,
   "id": "337532bd",
   "metadata": {},
   "outputs": [],
   "source": [
    "# Constraints\n",
    "# Each subject must be scheduled exactly H times for each class c:\n",
    "for sub, (h1, h2) in teaching_hours.items():\n",
    "    for c_idx, c in enumerate(classes):\n",
    "        H = h1 if c_idx == 0 else h2\n",
    "        model.addConstr(sum(x[c, sub, t] for t in time_slots) == H)\n",
    "\n",
    "\n",
    "# Each class can attend only one subject at a time:\n",
    "for s in classes:\n",
    "    for t in time_slots:\n",
    "        model.addConstr(sum(x[c, sub, t] for sub in teaching_hours) <= 1)\n",
    "\n",
    "\n",
    "# A teacher must not be scheduled to teach two classes at the same time.\n",
    "for t in time_slots:\n",
    "    for teacher in teachers:\n",
    "        teaching_subs = [sub for sub, tchr in subjects.items() if tchr == teacher]\n",
    "        model.addConstr(\n",
    "            sum(x[c, sub, t] for c in classes for sub in teaching_subs) <= 1\n",
    "        )\n",
    "\n",
    "# No more than one lesson per subject per section per Day\n",
    "for c in classes:\n",
    "    for sub in teaching_hours:\n",
    "        for day in days:\n",
    "            slots_today = [t for t in time_slots if t[0] == day]\n",
    "            model.addConstr(sum(x[c, sub, t] for t in slots_today) <= 1)\n",
    "\n",
    "# fixed slot reserved for study planning\n",
    "for s in classes:\n",
    "    for sub in teaching_hours:\n",
    "        for t in reserved_slots:\n",
    "            model.addConstr(x[c, sub, t] == 0)\n",
    "\n",
    "# PE must be on Thursday 14:00-16:00\n",
    "for t in time_slots:\n",
    "    if t != pe_slot:\n",
    "        model.addConstr(x[\"C1\", \"PE_1\", t] == 0)\n",
    "        model.addConstr(x[\"C2\", \"PE_2\", t] == 0)\n",
    "\n",
    "# Teachers' unavailability\n",
    "for teacher, unavailable_slots in unavailable.items():\n",
    "    teaching_subs = [sub for sub, tchr in subjects.items() if tchr == teacher]\n",
    "    for c in classes:\n",
    "        for sub in teaching_subs:\n",
    "            for t in unavailable_slots:\n",
    "                model.addConstr(x[c, sub, t] == 0)\n"
   ]
  },
  {
   "cell_type": "code",
   "execution_count": 47,
   "id": "76357d5d",
   "metadata": {},
   "outputs": [
    {
     "name": "stdout",
     "output_type": "stream",
     "text": [
      "Optimal solution found!\n",
      "\n"
     ]
    }
   ],
   "source": [
    "model.setParam('OutputFlag', 0) # Suppress output\n",
    "model.optimize()\n",
    "\n",
    "if model.status == GRB.OPTIMAL:\n",
    "    print(\"Optimal solution found!\\n\")\n",
    "else:\n",
    "    print(\"No solution found.\")\n"
   ]
  },
  {
   "cell_type": "code",
   "execution_count": 48,
   "id": "7a8523c0",
   "metadata": {},
   "outputs": [
    {
     "name": "stdout",
     "output_type": "stream",
     "text": [
      "\n",
      "Timetable for C1\n",
      "                 Mon      Tue         Wed      Thu      Fri\n",
      "08_10         Math_2      ---     Physics  Biology   Math_2\n",
      "10_15_12_15      ---  Physics  Philosophy  History      ---\n",
      "14_16            ---      ---      Math_2     PE_1  English\n",
      "16_15_18_15  Biology      ---         ---      ---  Biology\n",
      "\n",
      "Timetable for C2\n",
      "                 Mon      Tue     Wed      Thu         Fri\n",
      "08_10            ---  History  Math_1  English     Biology\n",
      "10_15_12_15  Physics   Math_1     ---      ---  Philosophy\n",
      "14_16        Biology  Biology     ---     PE_2     Physics\n",
      "16_15_18_15   Math_1  Physics     ---   Math_1     History\n"
     ]
    }
   ],
   "source": [
    "def build_timetable_for_section(section):\n",
    "    table = pd.DataFrame(index=slots_per_day, columns=days)\n",
    "\n",
    "    for day in days:\n",
    "        for slot in slots_per_day:\n",
    "            t = (day, slot)\n",
    "            subject = \"---\"\n",
    "            for sub in teaching_hours:\n",
    "                if x[section, sub, t].X > 0.5:\n",
    "                    subject = sub\n",
    "                    break\n",
    "            table.at[slot, day] = subject\n",
    "\n",
    "    return table\n",
    "\n",
    "for cls in classes:\n",
    "    print(f\"\\nTimetable for {cls}\")\n",
    "    timetable = build_timetable_for_section(cls)\n",
    "    print(timetable)\n"
   ]
  }
 ],
 "metadata": {
  "kernelspec": {
   "display_name": ".venv",
   "language": "python",
   "name": "python3"
  },
  "language_info": {
   "codemirror_mode": {
    "name": "ipython",
    "version": 3
   },
   "file_extension": ".py",
   "mimetype": "text/x-python",
   "name": "python",
   "nbconvert_exporter": "python",
   "pygments_lexer": "ipython3",
   "version": "3.12.3"
  }
 },
 "nbformat": 4,
 "nbformat_minor": 5
}
