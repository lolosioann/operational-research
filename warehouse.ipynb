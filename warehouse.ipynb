{
 "cells": [
  {
   "cell_type": "markdown",
   "id": "e49a1406",
   "metadata": {},
   "source": [
    "# Operational Research Assignment 2025\n",
    "## Optimal Warehouse Positioning\n",
    "### Lolos Ioannis - 10674\n",
    "### lolosioann@ece.auth.gr"
   ]
  },
  {
   "cell_type": "code",
   "execution_count": 31,
   "id": "4a386aed",
   "metadata": {},
   "outputs": [],
   "source": [
    "import numpy as np\n",
    "from gurobipy import Model, GRB"
   ]
  },
  {
   "cell_type": "markdown",
   "id": "5655b9a1",
   "metadata": {},
   "source": [
    "### Data Representation\n",
    "\n",
    "The problem data includes:\n",
    "\n",
    "- **12 candidate warehouse locations** (`warehouses` array), each with:\n",
    "  - Fixed installation cost (in thousand €) (`fixed_cost`),\n",
    "  - Maximum capacity (in tons) (`capacity`).\n",
    "  \n",
    "- **12 sales centers**, each with a specific demand (in tons) (`customers` and `demand` arrays).\n",
    "\n",
    "- A **transport cost matrix**, where the entry $c_{ij}$ denotes the cost to fully serve the demand of sales center $j$ from warehouse $i$.\n",
    "\n",
    "  - If delivery is infeasible, the cost is marked as ∞ and that route is **not considered** in the optimization model.\n"
   ]
  },
  {
   "cell_type": "code",
   "execution_count": 32,
   "id": "9a8931fc",
   "metadata": {},
   "outputs": [],
   "source": [
    "warehouses = list(range(12))\n",
    "customers = list(range(12))\n",
    "transport_cost = np.array([\n",
    "    [100,  80,  50,  50,  60, 100, 120,  90,  60,  70,  65, 110],\n",
    "    [120,  90,  60,  70,  65, 110, 140, 110,  80,  80,  75, 130],\n",
    "    [140, 110,  80,  80,  75, 130, 160, 125, 100, 100,  80, 150],\n",
    "    [160, 125, 100, 100,  80, 150, 190, 150, 130,  np.inf,  np.inf,  np.inf],\n",
    "    [190, 150, 130,  np.inf,  np.inf,  np.inf, 180, 150,  50,  50,  60, 100],\n",
    "    [200, 180, 150,  np.inf,  np.inf,  np.inf, 100, 120,  90,  60,  75, 110],\n",
    "    [120,  90,  60,  70,  65, 110, 140, 110,  80,  80,  75, 130],\n",
    "    [120,  90,  60,  70,  65, 110, 140, 110,  80,  80,  75, 130],\n",
    "    [140, 110,  80,  80,  75, 130, 160, 125, 100, 100,  80, 150],\n",
    "    [160, 125, 100, 100,  80, 150, 190, 150, 130,  np.inf,  np.inf,  np.inf],\n",
    "    [190, 150, 130,  np.inf,  np.inf,  np.inf, 200, 180, 150,  np.inf,  np.inf,  np.inf],\n",
    "    [200, 180, 150,  np.inf,  np.inf,  np.inf, 100,  80,  50,  50,  60, 100]\n",
    "])\n",
    "fixed_cost = [3500, 9000, 10000, 4000, 3000, 9000, 9000, 3000, 4000, 10000, 9000, 3500] # thousands of euros\n",
    "capacity = [300, 250, 100, 180, 275, 300, 200, 220, 270, 250, 230, 180] # in tons\n",
    "demand = [120, 80, 75, 100, 110, 100, 90, 60, 30, 150, 95, 120] # in tons"
   ]
  },
  {
   "cell_type": "markdown",
   "id": "fdd47add",
   "metadata": {},
   "source": [
    "Transport cost to serve the full demand is not that useful, as we are able to split the demand of a customer between multiple warehouses. We will work with \n",
    "cost per-ton, which is a more flexible approach"
   ]
  },
  {
   "cell_type": "code",
   "execution_count": 33,
   "id": "1ba6c3f8",
   "metadata": {},
   "outputs": [
    {
     "name": "stdout",
     "output_type": "stream",
     "text": [
      "Cost per ton matrix:\n",
      "0.83\t1.00\t0.67\t0.50\t0.55\t1.00\t1.33\t1.50\t2.00\t0.47\t0.68\t0.92\n",
      "1.00\t1.12\t0.80\t0.70\t0.59\t1.10\t1.56\t1.83\t2.67\t0.53\t0.79\t1.08\n",
      "1.17\t1.38\t1.07\t0.80\t0.68\t1.30\t1.78\t2.08\t3.33\t0.67\t0.84\t1.25\n",
      "1.33\t1.56\t1.33\t1.00\t0.73\t1.50\t2.11\t2.50\t4.33\tinf\tinf\tinf\n",
      "1.58\t1.88\t1.73\tinf\tinf\tinf\t2.00\t2.50\t1.67\t0.33\t0.63\t0.83\n",
      "1.67\t2.25\t2.00\tinf\tinf\tinf\t1.11\t2.00\t3.00\t0.40\t0.79\t0.92\n",
      "1.00\t1.12\t0.80\t0.70\t0.59\t1.10\t1.56\t1.83\t2.67\t0.53\t0.79\t1.08\n",
      "1.00\t1.12\t0.80\t0.70\t0.59\t1.10\t1.56\t1.83\t2.67\t0.53\t0.79\t1.08\n",
      "1.17\t1.38\t1.07\t0.80\t0.68\t1.30\t1.78\t2.08\t3.33\t0.67\t0.84\t1.25\n",
      "1.33\t1.56\t1.33\t1.00\t0.73\t1.50\t2.11\t2.50\t4.33\tinf\tinf\tinf\n",
      "1.58\t1.88\t1.73\tinf\tinf\tinf\t2.22\t3.00\t5.00\tinf\tinf\tinf\n",
      "1.67\t2.25\t2.00\tinf\tinf\tinf\t1.11\t1.33\t1.67\t0.33\t0.63\t0.83\n"
     ]
    }
   ],
   "source": [
    "# Convert transport cost to per-ton cost\n",
    "cost_per_ton = np.zeros_like(transport_cost, dtype=float)\n",
    "\n",
    "for i in warehouses:\n",
    "    for j in customers:\n",
    "        if transport_cost[i, j] == np.inf:\n",
    "            cost_per_ton[i, j] = np.inf\n",
    "        else:\n",
    "            cost_per_ton[i, j] = transport_cost[i, j] / demand[j]\n",
    "\n",
    "print(\"Cost per ton matrix:\")\n",
    "for row in cost_per_ton:\n",
    "    print('\\t'.join(f\"{val:.2f}\" for val in row))\n"
   ]
  },
  {
   "cell_type": "markdown",
   "id": "17caad10",
   "metadata": {},
   "source": [
    "### Mathematics of the Model\n",
    "\n",
    "The objective is to minimize:\n",
    "\n",
    "$$\n",
    "\\sum_{i=1}^{12} y_i \\cdot(f_i + \\sum_{j=1}^n c_{ij} x_{ij})\n",
    "$$\n",
    "\n",
    "Where:\n",
    "\n",
    "- $ i \\in \\{1, \\ldots, 12\\} $ is the index to the candidate warehouse locations,\n",
    "- $ j \\in \\{1, \\ldots, 12\\} $ is the index to the sales centers,\n",
    "- $ f_i $: fixed cost of opening warehouse $ i $,\n",
    "- $ c_{ij} $: transportation cost from warehouse $ i $ to sales center $ j $ (if feasible),\n",
    "- $ x_{ij} $: quantity (in tons) delivered from warehouse $ i $ to sales center $ j $,\n",
    "- $ y_i \\in \\{0,1\\} $: binary variable indicating if warehouse $ i $ is open.\n",
    "\n",
    "\n",
    "Subject to:\n",
    "\n",
    "1. **Demand satisfaction**:\n",
    "   $$\n",
    "   \\sum_{i=1}^{12} x_{ij} = d_j, \\quad \\forall j = 1, \\ldots, 12\n",
    "   $$\n",
    "\n",
    "2. **Capacity constraints**:\n",
    "   $$\n",
    "   \\sum_{j=1}^{12} x_{ij} \\leq u_i y_i, \\quad \\forall i = 1, \\ldots, 12\n",
    "   $$\n",
    "\n",
    "3. **Non-negativity and binary variables**:\n",
    "   $$\n",
    "   x_{ij} \\geq 0, \\quad y_i \\in \\{0,1\\}\n",
    "   $$\n",
    "\n",
    "Where:\n",
    "\n",
    "- $ d_j $: demand at sales center $ j $,\n",
    "- $ u_i $: capacity of warehouse $ i $,\n",
    "\n",
    "Impossible deliveries (marked ∞) are excluded by not allowing the corresponding $ x_{ij} $ variables in the model."
   ]
  },
  {
   "cell_type": "code",
   "execution_count": null,
   "id": "5323326a",
   "metadata": {},
   "outputs": [],
   "source": [
    "model = Model(\"warehouse_location\")\n",
    "\n",
    "y = model.addVars(warehouses, vtype=GRB.BINARY, name=\"open\")\n",
    "x = model.addVars(warehouses, customers, vtype=GRB.CONTINUOUS, name=\"flow\")\n",
    "\n",
    "model.setObjective(\n",
    "    sum(\n",
    "        y[i] * (fixed_cost[i] + sum(cost_per_ton[i][j] * x[i, j] for j in customers \n",
    "        if cost_per_ton[i][j] < np.inf)) \n",
    "        for i in warehouses\n",
    "        ),\n",
    "    GRB.MINIMIZE\n",
    ")\n"
   ]
  },
  {
   "cell_type": "code",
   "execution_count": 35,
   "id": "1ba9bd62",
   "metadata": {},
   "outputs": [],
   "source": [
    "# Each customer must receive exactly their demand\n",
    "for j in customers:\n",
    "    model.addConstr(sum(x[i, j] for i in warehouses if cost_per_ton[i][j] < np.inf) == demand[j],\n",
    "                    name=f\"demand_{j}\")\n",
    "\n",
    "# Only open warehouses can ship, and can't exceed capacity\n",
    "for i in warehouses:\n",
    "    model.addConstr(sum(x[i, j] for j in customers if cost_per_ton[i][j] < np.inf) <= capacity[i] * y[i],\n",
    "                    name=f\"capacity_{i}\")\n",
    "\n",
    "# Disallow flows where cost is infinite\n",
    "for i in warehouses:\n",
    "    for j in customers:\n",
    "        if cost_per_ton[i][j] == np.inf:\n",
    "            model.addConstr(x[i, j] == 0)\n"
   ]
  },
  {
   "cell_type": "markdown",
   "id": "d4d62667",
   "metadata": {},
   "source": [
    "### Display Results"
   ]
  },
  {
   "cell_type": "code",
   "execution_count": 36,
   "id": "7bbf962d",
   "metadata": {},
   "outputs": [
    {
     "name": "stdout",
     "output_type": "stream",
     "text": [
      "\n",
      "Total cost: 17929.23 thousand euros\n",
      "\n",
      "Opened Warehouses:\n",
      "  Warehouse 1 (capacity: 300)\n",
      "  Warehouse 5 (capacity: 275)\n",
      "  Warehouse 8 (capacity: 220)\n",
      "  Warehouse 9 (capacity: 270)\n",
      "  Warehouse 12 (capacity: 180)\n",
      "\n",
      "Flow Table (tons from warehouses to customers):\n",
      "\n",
      "W\\C\tC1\tC2\tC3\tC4\tC5\tC6\tC7\tC8\tC9\tC10\tC11\tC12\n",
      "W1\t120.0\t5.0\t75.0\t100.0\t-\t-\t-\t-\t-\t-\t-\t-\n",
      "W2\t-\t-\t-\t-\t-\t-\t-\t-\t-\t-\t-\t-\n",
      "W3\t-\t-\t-\t-\t-\t-\t-\t-\t-\t-\t-\t-\n",
      "W4\t-\t-\t-\t-\t-\t-\t-\t-\t-\t-\t-\t-\n",
      "W5\t-\t-\t-\t-\t-\t-\t-\t-\t-\t150.0\t5.0\t120.0\n",
      "W6\t-\t-\t-\t-\t-\t-\t-\t-\t-\t-\t-\t-\n",
      "W7\t-\t-\t-\t-\t-\t-\t-\t-\t-\t-\t-\t-\n",
      "W8\t-\t75.0\t-\t-\t45.0\t100.0\t-\t-\t-\t-\t-\t-\n",
      "W9\t-\t-\t-\t-\t65.0\t-\t-\t-\t-\t-\t90.0\t-\n",
      "W10\t-\t-\t-\t-\t-\t-\t-\t-\t-\t-\t-\t-\n",
      "W11\t-\t-\t-\t-\t-\t-\t-\t-\t-\t-\t-\t-\n",
      "W12\t-\t-\t-\t-\t-\t-\t90.0\t60.0\t30.0\t-\t-\t-\n"
     ]
    }
   ],
   "source": [
    "model.setParam(\"OutputFlag\", 0)  # silence output\n",
    "model.optimize()\n",
    "\n",
    "if model.status == GRB.OPTIMAL:\n",
    "    print(f\"\\nTotal cost: {model.objVal:.2f} thousand euros\\n\")\n",
    "\n",
    "    print(\"Opened Warehouses:\")\n",
    "    for i in warehouses:\n",
    "        if y[i].X > 0.5:\n",
    "            print(f\"  Warehouse {i+1} (capacity: {capacity[i]})\")\n",
    "\n",
    "    print(\"\\nFlow Table (tons from warehouses to customers):\\n\")\n",
    "    \n",
    "    # Print header\n",
    "    header = [\"W\\\\C\"] + [f\"C{j+1}\" for j in customers]\n",
    "    print(\"\\t\".join(header))\n",
    "\n",
    "    # Print rows\n",
    "    for i in warehouses:\n",
    "        row = [f\"W{i+1}\"]\n",
    "        for j in customers:\n",
    "            flow = x[i, j].X\n",
    "            val = f\"{flow:.1f}\" if flow > 1e-3 else \"-\"\n",
    "            row.append(val)\n",
    "        print(\"\\t\".join(row))\n",
    "\n",
    "else:\n",
    "    print(\"No feasible solution found.\")\n"
   ]
  }
 ],
 "metadata": {
  "kernelspec": {
   "display_name": ".venv",
   "language": "python",
   "name": "python3"
  },
  "language_info": {
   "codemirror_mode": {
    "name": "ipython",
    "version": 3
   },
   "file_extension": ".py",
   "mimetype": "text/x-python",
   "name": "python",
   "nbconvert_exporter": "python",
   "pygments_lexer": "ipython3",
   "version": "3.12.3"
  }
 },
 "nbformat": 4,
 "nbformat_minor": 5
}
