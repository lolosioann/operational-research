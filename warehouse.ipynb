{
 "cells": [
  {
   "cell_type": "markdown",
   "id": "e49a1406",
   "metadata": {},
   "source": [
    "# Operational Research Assignment 2025\n",
    "## Optimal Warehouse Positioning\n",
    "### Lolos Ioannis - 10674\n",
    "### lolosioann@ece.auth.gr"
   ]
  },
  {
   "cell_type": "code",
   "execution_count": 6,
   "id": "9a8931fc",
   "metadata": {},
   "outputs": [],
   "source": [
    "import numpy as np\n",
    "\n",
    "warehouses = list(range(12))\n",
    "customers = list(range(12))\n",
    "\n",
    "# Fixed costs for warehouses (in thousands of euros)\n",
    "fixed_cost = [3500, 9000, 10000, 4000, 3000, 9000, 9000, 3000, 4000, 10000, 9000, 3500]\n",
    "\n",
    "# Capacities (in tons)\n",
    "capacity = [300, 250, 100, 180, 275, 300, 200, 220, 270, 250, 230, 180]\n",
    "\n",
    "# Demands of each customer (in tons)\n",
    "demand = [120, 80, 75, 100, 110, 100, 90, 60, 30, 150, 95, 120]\n"
   ]
  },
  {
   "cell_type": "code",
   "execution_count": 7,
   "id": "1ba6c3f8",
   "metadata": {},
   "outputs": [],
   "source": [
    "transport_cost = np.array([\n",
    "    [100,  80,  50,  50,  60, 100, 120,  90,  60,  70,  65, 110],\n",
    "    [120,  90,  60,  70,  65, 110, 140, 110,  80,  80,  75, 130],\n",
    "    [140, 110,  80,  80,  75, 130, 160, 125, 100, 100,  80, 150],\n",
    "    [160, 125, 100, 100,  80, 150, 190, 150, 130,  np.inf,  np.inf,  np.inf],\n",
    "    [190, 150, 130,  np.inf,  np.inf,  np.inf, 180, 150,  50,  50,  60, 100],\n",
    "    [200, 180, 150,  np.inf,  np.inf,  np.inf, 100, 120,  90,  60,  75, 110],\n",
    "    [120,  90,  60,  70,  65, 110, 140, 110,  80,  80,  75, 130],\n",
    "    [120,  90,  60,  70,  65, 110, 140, 110,  80,  80,  75, 130],\n",
    "    [140, 110,  80,  80,  75, 130, 160, 125, 100, 100,  80, 150],\n",
    "    [160, 125, 100, 100,  80, 150, 190, 150, 130,  np.inf,  np.inf,  np.inf],\n",
    "    [190, 150, 130,  np.inf,  np.inf,  np.inf, 200, 180, 150,  np.inf,  np.inf,  np.inf],\n",
    "    [200, 180, 150,  np.inf,  np.inf,  np.inf, 100,  80,  50,  50,  60, 100]\n",
    "])\n",
    "\n",
    "# Convert transport cost to per-ton cost\n",
    "cost_per_ton = np.zeros_like(transport_cost, dtype=float)\n",
    "\n",
    "for i in warehouses:\n",
    "    for j in customers:\n",
    "        if transport_cost[i, j] == np.inf:\n",
    "            cost_per_ton[i, j] = np.inf\n",
    "        else:\n",
    "            cost_per_ton[i, j] = transport_cost[i, j] / demand[j]\n",
    "\n"
   ]
  },
  {
   "cell_type": "code",
   "execution_count": 8,
   "id": "5323326a",
   "metadata": {},
   "outputs": [
    {
     "name": "stdout",
     "output_type": "stream",
     "text": [
      "Restricted license - for non-production use only - expires 2026-11-23\n"
     ]
    }
   ],
   "source": [
    "from gurobipy import Model, GRB\n",
    "\n",
    "model = Model(\"warehouse_location\")\n",
    "model.setParam(\"OutputFlag\", 0)  # silence output\n",
    "\n",
    "y = model.addVars(warehouses, vtype=GRB.BINARY, name=\"open\")\n",
    "x = model.addVars(warehouses, customers, vtype=GRB.CONTINUOUS, name=\"flow\")\n",
    "\n",
    "model.setObjective(\n",
    "    sum(fixed_cost[i] * y[i] for i in warehouses) +\n",
    "    sum(cost_per_ton[i][j] * x[i, j]\n",
    "        for i in warehouses for j in customers\n",
    "        if cost_per_ton[i][j] < np.inf),\n",
    "    GRB.MINIMIZE\n",
    ")\n"
   ]
  },
  {
   "cell_type": "code",
   "execution_count": 9,
   "id": "1ba9bd62",
   "metadata": {},
   "outputs": [],
   "source": [
    "# Each customer must receive exactly their demand\n",
    "for j in customers:\n",
    "    model.addConstr(sum(x[i, j] for i in warehouses if cost_per_ton[i][j] < np.inf) == demand[j],\n",
    "                    name=f\"demand_{j}\")\n",
    "\n",
    "# Only open warehouses can ship, and can't exceed capacity\n",
    "for i in warehouses:\n",
    "    model.addConstr(sum(x[i, j] for j in customers if cost_per_ton[i][j] < np.inf) <= capacity[i] * y[i],\n",
    "                    name=f\"capacity_{i}\")\n",
    "\n",
    "# Disallow flows where cost is infinite\n",
    "for i in warehouses:\n",
    "    for j in customers:\n",
    "        if cost_per_ton[i][j] == np.inf:\n",
    "            model.addConstr(x[i, j] == 0)\n"
   ]
  },
  {
   "cell_type": "code",
   "execution_count": 10,
   "id": "7bbf962d",
   "metadata": {},
   "outputs": [
    {
     "name": "stdout",
     "output_type": "stream",
     "text": [
      "\n",
      "✅ Total cost: 17929.23 thousand euros\n",
      "\n",
      "Opened Warehouses:\n",
      "  Warehouse 1 (capacity: 300)\n",
      "  Warehouse 5 (capacity: 275)\n",
      "  Warehouse 8 (capacity: 220)\n",
      "  Warehouse 9 (capacity: 270)\n",
      "  Warehouse 12 (capacity: 180)\n",
      "\n",
      "Customer Assignments:\n",
      "  Customer 1 (demand: 120 tons):\n",
      "    ← 120.0 tons from Warehouse 1 (cost/ton: 0.83)\n",
      "  Customer 2 (demand: 80 tons):\n",
      "    ← 5.0 tons from Warehouse 1 (cost/ton: 1.00)\n",
      "    ← 75.0 tons from Warehouse 8 (cost/ton: 1.12)\n",
      "  Customer 3 (demand: 75 tons):\n",
      "    ← 75.0 tons from Warehouse 1 (cost/ton: 0.67)\n",
      "  Customer 4 (demand: 100 tons):\n",
      "    ← 100.0 tons from Warehouse 1 (cost/ton: 0.50)\n",
      "  Customer 5 (demand: 110 tons):\n",
      "    ← 45.0 tons from Warehouse 8 (cost/ton: 0.59)\n",
      "    ← 65.0 tons from Warehouse 9 (cost/ton: 0.68)\n",
      "  Customer 6 (demand: 100 tons):\n",
      "    ← 100.0 tons from Warehouse 8 (cost/ton: 1.10)\n",
      "  Customer 7 (demand: 90 tons):\n",
      "    ← 90.0 tons from Warehouse 12 (cost/ton: 1.11)\n",
      "  Customer 8 (demand: 60 tons):\n",
      "    ← 60.0 tons from Warehouse 12 (cost/ton: 1.33)\n",
      "  Customer 9 (demand: 30 tons):\n",
      "    ← 30.0 tons from Warehouse 12 (cost/ton: 1.67)\n",
      "  Customer 10 (demand: 150 tons):\n",
      "    ← 150.0 tons from Warehouse 5 (cost/ton: 0.33)\n",
      "  Customer 11 (demand: 95 tons):\n",
      "    ← 5.0 tons from Warehouse 5 (cost/ton: 0.63)\n",
      "    ← 90.0 tons from Warehouse 9 (cost/ton: 0.84)\n",
      "  Customer 12 (demand: 120 tons):\n",
      "    ← 120.0 tons from Warehouse 5 (cost/ton: 0.83)\n"
     ]
    }
   ],
   "source": [
    "model.optimize()\n",
    "\n",
    "if model.status == GRB.OPTIMAL:\n",
    "    print(f\"\\n✅ Total cost: {model.objVal:.2f} thousand euros\\n\")\n",
    "    print(\"Opened Warehouses:\")\n",
    "    for i in warehouses:\n",
    "        if y[i].X > 0.5:\n",
    "            print(f\"  Warehouse {i+1} (capacity: {capacity[i]})\")\n",
    "\n",
    "    print(\"\\nCustomer Assignments:\")\n",
    "    for j in customers:\n",
    "        print(f\"  Customer {j+1} (demand: {demand[j]} tons):\")\n",
    "        for i in warehouses:\n",
    "            flow = x[i, j].X\n",
    "            if flow > 1e-6:\n",
    "                print(f\"    ← {flow:.1f} tons from Warehouse {i+1} (cost/ton: {cost_per_ton[i][j]:.2f})\")\n",
    "else:\n",
    "    print(\"❌ No feasible solution found.\")\n"
   ]
  }
 ],
 "metadata": {
  "kernelspec": {
   "display_name": ".venv",
   "language": "python",
   "name": "python3"
  },
  "language_info": {
   "codemirror_mode": {
    "name": "ipython",
    "version": 3
   },
   "file_extension": ".py",
   "mimetype": "text/x-python",
   "name": "python",
   "nbconvert_exporter": "python",
   "pygments_lexer": "ipython3",
   "version": "3.12.3"
  }
 },
 "nbformat": 4,
 "nbformat_minor": 5
}
